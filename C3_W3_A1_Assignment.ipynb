{
 "cells": [
  {
   "cell_type": "markdown",
   "metadata": {},
   "source": [
    "# Deep Q-Learning - Lunar Lander\n"
   ]
  },
  {
   "cell_type": "code",
   "execution_count": 63,
   "metadata": {
    "deletable": false,
    "editable": false,
    "id": "KYbOPKRtfQOr"
   },
   "outputs": [],
   "source": [
    "import time\n",
    "from collections import deque, namedtuple\n",
    "\n",
    "import gym\n",
    "import numpy as np\n",
    "import PIL.Image\n",
    "import tensorflow as tf\n",
    "import utils\n",
    "\n",
    "from pyvirtualdisplay import Display\n",
    "from tensorflow.keras import Sequential\n",
    "from tensorflow.keras.layers import Dense, Input\n",
    "from tensorflow.keras.losses import MSE\n",
    "from tensorflow.keras.optimizers import Adam"
   ]
  },
  {
   "cell_type": "code",
   "execution_count": 64,
   "metadata": {
    "deletable": false,
    "editable": false
   },
   "outputs": [],
   "source": [
    "# Set up a virtual display to render the Lunar Lander environment.\n",
    "# Display(visible=0, size=(840, 480)).start();\n",
    "\n",
    "# Set the random seed for TensorFlow\n",
    "tf.random.set_seed(utils.SEED)"
   ]
  },
  {
   "cell_type": "code",
   "execution_count": 65,
   "metadata": {
    "deletable": false,
    "editable": false
   },
   "outputs": [],
   "source": [
    "MEMORY_SIZE = 100_000     # size of memory buffer\n",
    "GAMMA = 0.995             # discount factor\n",
    "ALPHA = 1e-3              # learning rate  \n",
    "NUM_STEPS_FOR_UPDATE = 4  # perform a learning update every C time steps"
   ]
  },
  {
   "cell_type": "code",
   "execution_count": 66,
   "metadata": {
    "deletable": false,
    "editable": false,
    "id": "ILVMYKewfR0n"
   },
   "outputs": [],
   "source": [
    "env = gym.make('LunarLander-v2')"
   ]
  },
  {
   "cell_type": "code",
   "execution_count": 67,
   "metadata": {
    "deletable": false,
    "editable": false
   },
   "outputs": [
    {
     "data": {
      "image/jpeg": "[encoded data removed]",
      "image/png": "[encoded data removed]",
      "text/plain": [
       "<PIL.Image.Image image mode=RGB size=600x400>"
      ]
     },
     "execution_count": 67,
     "metadata": {},
     "output_type": "execute_result"
    }
   ],
   "source": [
    "env.reset()\n",
    "PIL.Image.fromarray(env.render(mode='rgb_array'))"
   ]
  },
  {
   "cell_type": "code",
   "execution_count": 68,
   "metadata": {
    "deletable": false,
    "editable": false,
    "id": "x3fdqdG4CUu2"
   },
   "outputs": [
    {
     "name": "stdout",
     "output_type": "stream",
     "text": [
      "State Shape: (8,)\n",
      "Number of actions: 4\n"
     ]
    }
   ],
   "source": [
    "state_size = env.observation_space.shape\n",
    "num_actions = env.action_space.n\n",
    "\n",
    "print('State Shape:', state_size)\n",
    "print('Number of actions:', num_actions)"
   ]
  },
  {
   "cell_type": "code",
   "execution_count": 69,
   "metadata": {
    "deletable": false,
    "editable": false
   },
   "outputs": [],
   "source": [
    "# Reset the environment and get the initial state.\n",
    "current_state = env.reset()"
   ]
  },
  {
   "cell_type": "code",
   "execution_count": 70,
   "metadata": {
    "deletable": false
   },
   "outputs": [
    {
     "name": "stderr",
     "output_type": "stream",
     "text": [
      "c:\\Dev\\Lunar Lander\\utils.py:355: FutureWarning: Styler.applymap has been deprecated. Use Styler.map instead.\n",
      "  .applymap(lambda x: 'background-color : grey' if x == '' else '')\\\n"
     ]
    },
    {
     "data": {
      "text/html": [
       "<style type=\"text/css\">\n",
       "#T_18078 th {\n",
       "  border: 1px solid grey;\n",
       "  text-align: center;\n",
       "}\n",
       "#T_18078 tbody td {\n",
       "  border: 1px solid grey;\n",
       "  text-align: center;\n",
       "}\n",
       "#T_18078_row0_col0, #T_18078_row1_col1, #T_18078_row1_col2, #T_18078_row1_col3, #T_18078_row1_col4, #T_18078_row1_col5, #T_18078_row1_col6, #T_18078_row1_col7, #T_18078_row1_col8, #T_18078_row1_col9, #T_18078_row1_col10, #T_18078_row1_col11, #T_18078_row2_col0, #T_18078_row3_col1, #T_18078_row3_col2, #T_18078_row3_col3, #T_18078_row3_col4, #T_18078_row3_col5, #T_18078_row3_col6, #T_18078_row3_col7, #T_18078_row3_col8, #T_18078_row3_col9, #T_18078_row3_col10, #T_18078_row3_col11, #T_18078_row4_col1, #T_18078_row4_col2, #T_18078_row4_col3, #T_18078_row4_col4, #T_18078_row4_col5, #T_18078_row4_col6, #T_18078_row4_col7, #T_18078_row4_col8, #T_18078_row4_col9, #T_18078_row4_col10, #T_18078_row4_col11 {\n",
       "  background-color: grey;\n",
       "}\n",
       "</style>\n",
       "<table id=\"T_18078\">\n",
       "  <thead>\n",
       "    <tr>\n",
       "      <th class=\"blank level0\" >&nbsp;</th>\n",
       "      <th id=\"T_18078_level0_col0\" class=\"col_heading level0 col0\" ></th>\n",
       "      <th id=\"T_18078_level0_col1\" class=\"col_heading level0 col1\" colspan=\"8\">State Vector</th>\n",
       "      <th id=\"T_18078_level0_col9\" class=\"col_heading level0 col9\" colspan=\"3\">Derived from the State Vector (the closer to zero, the better)</th>\n",
       "    </tr>\n",
       "    <tr>\n",
       "      <th class=\"blank level1\" >&nbsp;</th>\n",
       "      <th id=\"T_18078_level1_col0\" class=\"col_heading level1 col0\" ></th>\n",
       "      <th id=\"T_18078_level1_col1\" class=\"col_heading level1 col1\" colspan=\"2\">Coordinate</th>\n",
       "      <th id=\"T_18078_level1_col3\" class=\"col_heading level1 col3\" colspan=\"2\">Velocity</th>\n",
       "      <th id=\"T_18078_level1_col5\" class=\"col_heading level1 col5\" colspan=\"2\">Tilting</th>\n",
       "      <th id=\"T_18078_level1_col7\" class=\"col_heading level1 col7\" colspan=\"2\">Ground contact</th>\n",
       "      <th id=\"T_18078_level1_col9\" class=\"col_heading level1 col9\" >Distance from landing pad</th>\n",
       "      <th id=\"T_18078_level1_col10\" class=\"col_heading level1 col10\" >Velocity</th>\n",
       "      <th id=\"T_18078_level1_col11\" class=\"col_heading level1 col11\" >Tilting Angle (absolute value)</th>\n",
       "    </tr>\n",
       "    <tr>\n",
       "      <th class=\"blank level2\" >&nbsp;</th>\n",
       "      <th id=\"T_18078_level2_col0\" class=\"col_heading level2 col0\" ></th>\n",
       "      <th id=\"T_18078_level2_col1\" class=\"col_heading level2 col1\" >X (Horizontal)</th>\n",
       "      <th id=\"T_18078_level2_col2\" class=\"col_heading level2 col2\" >Y (Vertical)</th>\n",
       "      <th id=\"T_18078_level2_col3\" class=\"col_heading level2 col3\" >X (Horizontal)</th>\n",
       "      <th id=\"T_18078_level2_col4\" class=\"col_heading level2 col4\" >Y (Vertical)</th>\n",
       "      <th id=\"T_18078_level2_col5\" class=\"col_heading level2 col5\" >Angle</th>\n",
       "      <th id=\"T_18078_level2_col6\" class=\"col_heading level2 col6\" >Angular Velocity</th>\n",
       "      <th id=\"T_18078_level2_col7\" class=\"col_heading level2 col7\" >Left Leg?</th>\n",
       "      <th id=\"T_18078_level2_col8\" class=\"col_heading level2 col8\" >Right Leg?</th>\n",
       "      <th id=\"T_18078_level2_col9\" class=\"col_heading level2 col9\" ></th>\n",
       "      <th id=\"T_18078_level2_col10\" class=\"col_heading level2 col10\" ></th>\n",
       "      <th id=\"T_18078_level2_col11\" class=\"col_heading level2 col11\" ></th>\n",
       "    </tr>\n",
       "  </thead>\n",
       "  <tbody>\n",
       "    <tr>\n",
       "      <th id=\"T_18078_level0_row0\" class=\"row_heading level0 row0\" >Current State</th>\n",
       "      <td id=\"T_18078_row0_col0\" class=\"data row0 col0\" ></td>\n",
       "      <td id=\"T_18078_row0_col1\" class=\"data row0 col1\" >0.001919</td>\n",
       "      <td id=\"T_18078_row0_col2\" class=\"data row0 col2\" >1.422301</td>\n",
       "      <td id=\"T_18078_row0_col3\" class=\"data row0 col3\" >0.194400</td>\n",
       "      <td id=\"T_18078_row0_col4\" class=\"data row0 col4\" >0.505814</td>\n",
       "      <td id=\"T_18078_row0_col5\" class=\"data row0 col5\" >-0.002217</td>\n",
       "      <td id=\"T_18078_row0_col6\" class=\"data row0 col6\" >-0.044034</td>\n",
       "      <td id=\"T_18078_row0_col7\" class=\"data row0 col7\" >False</td>\n",
       "      <td id=\"T_18078_row0_col8\" class=\"data row0 col8\" >False</td>\n",
       "      <td id=\"T_18078_row0_col9\" class=\"data row0 col9\" >1.422302</td>\n",
       "      <td id=\"T_18078_row0_col10\" class=\"data row0 col10\" >0.541885</td>\n",
       "      <td id=\"T_18078_row0_col11\" class=\"data row0 col11\" >0.002217</td>\n",
       "    </tr>\n",
       "    <tr>\n",
       "      <th id=\"T_18078_level0_row1\" class=\"row_heading level0 row1\" >Action</th>\n",
       "      <td id=\"T_18078_row1_col0\" class=\"data row1 col0\" >Do nothing</td>\n",
       "      <td id=\"T_18078_row1_col1\" class=\"data row1 col1\" ></td>\n",
       "      <td id=\"T_18078_row1_col2\" class=\"data row1 col2\" ></td>\n",
       "      <td id=\"T_18078_row1_col3\" class=\"data row1 col3\" ></td>\n",
       "      <td id=\"T_18078_row1_col4\" class=\"data row1 col4\" ></td>\n",
       "      <td id=\"T_18078_row1_col5\" class=\"data row1 col5\" ></td>\n",
       "      <td id=\"T_18078_row1_col6\" class=\"data row1 col6\" ></td>\n",
       "      <td id=\"T_18078_row1_col7\" class=\"data row1 col7\" ></td>\n",
       "      <td id=\"T_18078_row1_col8\" class=\"data row1 col8\" ></td>\n",
       "      <td id=\"T_18078_row1_col9\" class=\"data row1 col9\" ></td>\n",
       "      <td id=\"T_18078_row1_col10\" class=\"data row1 col10\" ></td>\n",
       "      <td id=\"T_18078_row1_col11\" class=\"data row1 col11\" ></td>\n",
       "    </tr>\n",
       "    <tr>\n",
       "      <th id=\"T_18078_level0_row2\" class=\"row_heading level0 row2\" >Next State</th>\n",
       "      <td id=\"T_18078_row2_col0\" class=\"data row2 col0\" ></td>\n",
       "      <td id=\"T_18078_row2_col1\" class=\"data row2 col1\" >0.003839</td>\n",
       "      <td id=\"T_18078_row2_col2\" class=\"data row2 col2\" >1.433103</td>\n",
       "      <td id=\"T_18078_row2_col3\" class=\"data row2 col3\" >0.194137</td>\n",
       "      <td id=\"T_18078_row2_col4\" class=\"data row2 col4\" >0.480094</td>\n",
       "      <td id=\"T_18078_row2_col5\" class=\"data row2 col5\" >-0.004393</td>\n",
       "      <td id=\"T_18078_row2_col6\" class=\"data row2 col6\" >-0.043519</td>\n",
       "      <td id=\"T_18078_row2_col7\" class=\"data row2 col7\" >False</td>\n",
       "      <td id=\"T_18078_row2_col8\" class=\"data row2 col8\" >False</td>\n",
       "      <td id=\"T_18078_row2_col9\" class=\"data row2 col9\" >1.433108</td>\n",
       "      <td id=\"T_18078_row2_col10\" class=\"data row2 col10\" >0.517860</td>\n",
       "      <td id=\"T_18078_row2_col11\" class=\"data row2 col11\" >0.004393</td>\n",
       "    </tr>\n",
       "    <tr>\n",
       "      <th id=\"T_18078_level0_row3\" class=\"row_heading level0 row3\" >Reward</th>\n",
       "      <td id=\"T_18078_row3_col0\" class=\"data row3 col0\" >1.104326</td>\n",
       "      <td id=\"T_18078_row3_col1\" class=\"data row3 col1\" ></td>\n",
       "      <td id=\"T_18078_row3_col2\" class=\"data row3 col2\" ></td>\n",
       "      <td id=\"T_18078_row3_col3\" class=\"data row3 col3\" ></td>\n",
       "      <td id=\"T_18078_row3_col4\" class=\"data row3 col4\" ></td>\n",
       "      <td id=\"T_18078_row3_col5\" class=\"data row3 col5\" ></td>\n",
       "      <td id=\"T_18078_row3_col6\" class=\"data row3 col6\" ></td>\n",
       "      <td id=\"T_18078_row3_col7\" class=\"data row3 col7\" ></td>\n",
       "      <td id=\"T_18078_row3_col8\" class=\"data row3 col8\" ></td>\n",
       "      <td id=\"T_18078_row3_col9\" class=\"data row3 col9\" ></td>\n",
       "      <td id=\"T_18078_row3_col10\" class=\"data row3 col10\" ></td>\n",
       "      <td id=\"T_18078_row3_col11\" class=\"data row3 col11\" ></td>\n",
       "    </tr>\n",
       "    <tr>\n",
       "      <th id=\"T_18078_level0_row4\" class=\"row_heading level0 row4\" >Episode Terminated</th>\n",
       "      <td id=\"T_18078_row4_col0\" class=\"data row4 col0\" >False</td>\n",
       "      <td id=\"T_18078_row4_col1\" class=\"data row4 col1\" ></td>\n",
       "      <td id=\"T_18078_row4_col2\" class=\"data row4 col2\" ></td>\n",
       "      <td id=\"T_18078_row4_col3\" class=\"data row4 col3\" ></td>\n",
       "      <td id=\"T_18078_row4_col4\" class=\"data row4 col4\" ></td>\n",
       "      <td id=\"T_18078_row4_col5\" class=\"data row4 col5\" ></td>\n",
       "      <td id=\"T_18078_row4_col6\" class=\"data row4 col6\" ></td>\n",
       "      <td id=\"T_18078_row4_col7\" class=\"data row4 col7\" ></td>\n",
       "      <td id=\"T_18078_row4_col8\" class=\"data row4 col8\" ></td>\n",
       "      <td id=\"T_18078_row4_col9\" class=\"data row4 col9\" ></td>\n",
       "      <td id=\"T_18078_row4_col10\" class=\"data row4 col10\" ></td>\n",
       "      <td id=\"T_18078_row4_col11\" class=\"data row4 col11\" ></td>\n",
       "    </tr>\n",
       "  </tbody>\n",
       "</table>\n"
      ],
      "text/plain": [
       "<pandas.io.formats.style.Styler at 0x13ba0d0c6a0>"
      ]
     },
     "metadata": {},
     "output_type": "display_data"
    }
   ],
   "source": [
    "# Select an action\n",
    "action = 0\n",
    "\n",
    "# Run a single time step of the environment's dynamics with the given action.\n",
    "next_state, reward, done, _ = env.step(action)\n",
    "\n",
    "# Display table with values.\n",
    "utils.display_table(current_state, action, next_state, reward, done)\n",
    "\n",
    "# Replace the `current_state` with the state after the action is taken\n",
    "current_state = next_state"
   ]
  },
  {
   "cell_type": "code",
   "execution_count": 71,
   "metadata": {
    "deletable": false
   },
   "outputs": [],
   "source": [
    "# UNQ_C1\n",
    "# GRADED CELL\n",
    "\n",
    "# Create the Q-Network\n",
    "q_network = Sequential([\n",
    "    ### START CODE HERE ### \n",
    "    Input(shape=state_size),\n",
    "    Dense(units=64, activation='relu'),\n",
    "    Dense(units=64, activation='relu'),\n",
    "    Dense(units=num_actions, activation='linear'),\n",
    "    ### END CODE HERE ### \n",
    "    ])\n",
    "\n",
    "# Create the target Q^-Network\n",
    "target_q_network = Sequential([\n",
    "    ### START CODE HERE ### \n",
    "    Input(shape=state_size),\n",
    "    Dense(units=64, activation='relu'),\n",
    "    Dense(units=64, activation='relu'),\n",
    "    Dense(units=num_actions, activation='linear'),\n",
    "    ### END CODE HERE ###\n",
    "    ])\n",
    "\n",
    "### START CODE HERE ### \n",
    "optimizer = Adam(learning_rate=ALPHA)\n",
    "### END CODE HERE ###"
   ]
  },
  {
   "cell_type": "code",
   "execution_count": 72,
   "metadata": {
    "deletable": false,
    "editable": false
   },
   "outputs": [],
   "source": [
    "# Store experiences as named tuples\n",
    "experience = namedtuple(\"Experience\", field_names=[\"state\", \"action\", \"reward\", \"next_state\", \"done\"])"
   ]
  },
  {
   "cell_type": "code",
   "execution_count": 73,
   "metadata": {
    "deletable": false
   },
   "outputs": [],
   "source": [
    "# UNQ_C2\n",
    "# GRADED FUNCTION: calculate_loss\n",
    "\n",
    "def compute_loss(experiences, gamma, q_network, target_q_network):\n",
    "    \"\"\" \n",
    "    Calculates the loss.\n",
    "    \n",
    "    Args:\n",
    "      experiences: (tuple) tuple of [\"state\", \"action\", \"reward\", \"next_state\", \"done\"] namedtuples\n",
    "      gamma: (float) The discount factor.\n",
    "      q_network: (tf.keras.Sequential) Keras model for predicting the q_values\n",
    "      target_q_network: (tf.keras.Sequential) Keras model for predicting the targets\n",
    "          \n",
    "    Returns:\n",
    "      loss: (TensorFlow Tensor(shape=(0,), dtype=int32)) the Mean-Squared Error between\n",
    "            the y targets and the Q(s,a) values.\n",
    "    \"\"\"\n",
    "\n",
    "    # Unpack the mini-batch of experience tuples\n",
    "    states, actions, rewards, next_states, done_vals = experiences\n",
    "    \n",
    "    # Compute max Q^(s,a)\n",
    "    max_qsa = tf.reduce_max(target_q_network(next_states), axis=-1)\n",
    "    \n",
    "    # Set y = R if episode terminates, otherwise set y = R + γ max Q^(s,a).\n",
    "    ### START CODE HERE ### \n",
    "    y_targets =  rewards + (1 - done_vals) * gamma*max_qsa\n",
    "    ### END CODE HERE ###\n",
    "    \n",
    "    # Get the q_values and reshape to match y_targets\n",
    "    q_values = q_network(states)\n",
    "    q_values = tf.gather_nd(q_values, tf.stack([tf.range(q_values.shape[0]),\n",
    "                                                tf.cast(actions, tf.int32)], axis=1))\n",
    "        \n",
    "    # Compute the loss\n",
    "    ### START CODE HERE ### \n",
    "    loss = MSE(y_targets, q_values) \n",
    "    ### END CODE HERE ### \n",
    "    \n",
    "    return loss"
   ]
  },
  {
   "cell_type": "code",
   "execution_count": 74,
   "metadata": {
    "deletable": false,
    "editable": false
   },
   "outputs": [
    {
     "name": "stdout",
     "output_type": "stream",
     "text": [
      "\u001b[92mAll tests passed!\n"
     ]
    }
   ],
   "source": [
    "# UNIT TEST   \n",
    "from public_tests import * \n",
    "test_compute_loss(compute_loss)"
   ]
  },
  {
   "cell_type": "code",
   "execution_count": 75,
   "metadata": {
    "deletable": false,
    "editable": false
   },
   "outputs": [],
   "source": [
    "@tf.function\n",
    "def agent_learn(experiences, gamma):\n",
    "    \"\"\"\n",
    "    Updates the weights of the Q networks.\n",
    "    \n",
    "    Args:\n",
    "      experiences: (tuple) tuple of [\"state\", \"action\", \"reward\", \"next_state\", \"done\"] namedtuples\n",
    "      gamma: (float) The discount factor.\n",
    "    \n",
    "    \"\"\"\n",
    "    \n",
    "    # Calculate the loss\n",
    "    with tf.GradientTape() as tape:\n",
    "        loss = compute_loss(experiences, gamma, q_network, target_q_network)\n",
    "\n",
    "    # Get the gradients of the loss with respect to the weights.\n",
    "    gradients = tape.gradient(loss, q_network.trainable_variables)\n",
    "    \n",
    "    # Update the weights of the q_network.\n",
    "    optimizer.apply_gradients(zip(gradients, q_network.trainable_variables))\n",
    "\n",
    "    # update the weights of target q_network\n",
    "    utils.update_target_network(q_network, target_q_network)"
   ]
  },
  {
   "cell_type": "code",
   "execution_count": 76,
   "metadata": {
    "deletable": false,
    "editable": false
   },
   "outputs": [
    {
     "name": "stdout",
     "output_type": "stream",
     "text": [
      "Episode 17 | Total point average of the last 100 episodes: -250.47"
     ]
    },
    {
     "ename": "KeyboardInterrupt",
     "evalue": "",
     "output_type": "error",
     "traceback": [
      "\u001b[1;31m---------------------------------------------------------------------------\u001b[0m",
      "\u001b[1;31mKeyboardInterrupt\u001b[0m                         Traceback (most recent call last)",
      "Cell \u001b[1;32mIn[76], line 46\u001b[0m\n\u001b[0;32m     42\u001b[0m     experiences \u001b[38;5;241m=\u001b[39m utils\u001b[38;5;241m.\u001b[39mget_experiences(memory_buffer)\n\u001b[0;32m     44\u001b[0m     \u001b[38;5;66;03m# Set the y targets, perform a gradient descent step,\u001b[39;00m\n\u001b[0;32m     45\u001b[0m     \u001b[38;5;66;03m# and update the network weights.\u001b[39;00m\n\u001b[1;32m---> 46\u001b[0m     \u001b[43magent_learn\u001b[49m\u001b[43m(\u001b[49m\u001b[43mexperiences\u001b[49m\u001b[43m,\u001b[49m\u001b[43m \u001b[49m\u001b[43mGAMMA\u001b[49m\u001b[43m)\u001b[49m\n\u001b[0;32m     48\u001b[0m state \u001b[38;5;241m=\u001b[39m next_state\u001b[38;5;241m.\u001b[39mcopy()\n\u001b[0;32m     49\u001b[0m total_points \u001b[38;5;241m+\u001b[39m\u001b[38;5;241m=\u001b[39m reward\n",
      "File \u001b[1;32mc:\\Dev\\Lunar Lander\\venv\\lib\\site-packages\\tensorflow\\python\\util\\traceback_utils.py:140\u001b[0m, in \u001b[0;36mfilter_traceback.<locals>.error_handler\u001b[1;34m(*args, **kwargs)\u001b[0m\n\u001b[0;32m    138\u001b[0m \u001b[38;5;28;01mdef\u001b[39;00m\u001b[38;5;250m \u001b[39m\u001b[38;5;21merror_handler\u001b[39m(\u001b[38;5;241m*\u001b[39margs, \u001b[38;5;241m*\u001b[39m\u001b[38;5;241m*\u001b[39mkwargs):\n\u001b[0;32m    139\u001b[0m   \u001b[38;5;28;01mtry\u001b[39;00m:\n\u001b[1;32m--> 140\u001b[0m     \u001b[38;5;28;01mif\u001b[39;00m \u001b[38;5;129;01mnot\u001b[39;00m \u001b[43mis_traceback_filtering_enabled\u001b[49m\u001b[43m(\u001b[49m\u001b[43m)\u001b[49m:\n\u001b[0;32m    141\u001b[0m       \u001b[38;5;28;01mreturn\u001b[39;00m fn(\u001b[38;5;241m*\u001b[39margs, \u001b[38;5;241m*\u001b[39m\u001b[38;5;241m*\u001b[39mkwargs)\n\u001b[0;32m    142\u001b[0m   \u001b[38;5;28;01mexcept\u001b[39;00m \u001b[38;5;167;01mNameError\u001b[39;00m:\n\u001b[0;32m    143\u001b[0m     \u001b[38;5;66;03m# In some very rare cases,\u001b[39;00m\n\u001b[0;32m    144\u001b[0m     \u001b[38;5;66;03m# `is_traceback_filtering_enabled` (from the outer scope) may not be\u001b[39;00m\n\u001b[0;32m    145\u001b[0m     \u001b[38;5;66;03m# accessible from inside this function\u001b[39;00m\n",
      "File \u001b[1;32mc:\\Dev\\Lunar Lander\\venv\\lib\\site-packages\\tensorflow\\python\\util\\traceback_utils.py:32\u001b[0m, in \u001b[0;36mis_traceback_filtering_enabled\u001b[1;34m()\u001b[0m\n\u001b[0;32m     26\u001b[0m _ENABLE_TRACEBACK_FILTERING \u001b[38;5;241m=\u001b[39m threading\u001b[38;5;241m.\u001b[39mlocal()\n\u001b[0;32m     27\u001b[0m _EXCLUDED_PATHS \u001b[38;5;241m=\u001b[39m (\n\u001b[0;32m     28\u001b[0m     os\u001b[38;5;241m.\u001b[39mpath\u001b[38;5;241m.\u001b[39mabspath(os\u001b[38;5;241m.\u001b[39mpath\u001b[38;5;241m.\u001b[39mjoin(\u001b[38;5;18m__file__\u001b[39m, \u001b[38;5;124m'\u001b[39m\u001b[38;5;124m..\u001b[39m\u001b[38;5;124m'\u001b[39m, \u001b[38;5;124m'\u001b[39m\u001b[38;5;124m..\u001b[39m\u001b[38;5;124m'\u001b[39m)),\n\u001b[0;32m     29\u001b[0m )\n\u001b[1;32m---> 32\u001b[0m \u001b[38;5;129m@tf_export\u001b[39m(\u001b[38;5;124m'\u001b[39m\u001b[38;5;124mdebugging.is_traceback_filtering_enabled\u001b[39m\u001b[38;5;124m'\u001b[39m)\n\u001b[0;32m     33\u001b[0m \u001b[38;5;28;01mdef\u001b[39;00m\u001b[38;5;250m \u001b[39m\u001b[38;5;21mis_traceback_filtering_enabled\u001b[39m():\n\u001b[0;32m     34\u001b[0m \u001b[38;5;250m  \u001b[39m\u001b[38;5;124;03m\"\"\"Check whether traceback filtering is currently enabled.\u001b[39;00m\n\u001b[0;32m     35\u001b[0m \n\u001b[0;32m     36\u001b[0m \u001b[38;5;124;03m  See also `tf.debugging.enable_traceback_filtering()` and\u001b[39;00m\n\u001b[1;32m   (...)\u001b[0m\n\u001b[0;32m     45\u001b[0m \u001b[38;5;124;03m    was called).\u001b[39;00m\n\u001b[0;32m     46\u001b[0m \u001b[38;5;124;03m  \"\"\"\u001b[39;00m\n\u001b[0;32m     47\u001b[0m   value \u001b[38;5;241m=\u001b[39m \u001b[38;5;28mgetattr\u001b[39m(_ENABLE_TRACEBACK_FILTERING, \u001b[38;5;124m'\u001b[39m\u001b[38;5;124mvalue\u001b[39m\u001b[38;5;124m'\u001b[39m, \u001b[38;5;28;01mTrue\u001b[39;00m)\n",
      "\u001b[1;31mKeyboardInterrupt\u001b[0m: "
     ]
    }
   ],
   "source": [
    "start = time.time()\n",
    "\n",
    "num_episodes = 2000\n",
    "max_num_timesteps = 1000\n",
    "\n",
    "total_point_history = []\n",
    "\n",
    "num_p_av = 100    # number of total points to use for averaging\n",
    "epsilon = 1.0     # initial ε value for ε-greedy policy\n",
    "\n",
    "# Create a memory buffer D with capacity N\n",
    "memory_buffer = deque(maxlen=MEMORY_SIZE)\n",
    "\n",
    "# Set the target network weights equal to the Q-Network weights\n",
    "target_q_network.set_weights(q_network.get_weights())\n",
    "\n",
    "for i in range(num_episodes):\n",
    "    \n",
    "    # Reset the environment to the initial state and get the initial state\n",
    "    state = env.reset()\n",
    "    total_points = 0\n",
    "    \n",
    "    for t in range(max_num_timesteps):\n",
    "        \n",
    "        # From the current state S choose an action A using an ε-greedy policy\n",
    "        state_qn = np.expand_dims(state, axis=0)  # state needs to be the right shape for the q_network\n",
    "        q_values = q_network(state_qn)\n",
    "        action = utils.get_action(q_values, epsilon)\n",
    "        \n",
    "        # Take action A and receive reward R and the next state S'\n",
    "        next_state, reward, done, _ = env.step(action)\n",
    "        \n",
    "        # Store experience tuple (S,A,R,S') in the memory buffer.\n",
    "        # We store the done variable as well for convenience.\n",
    "        memory_buffer.append(experience(state, action, reward, next_state, done))\n",
    "        \n",
    "        # Only update the network every NUM_STEPS_FOR_UPDATE time steps.\n",
    "        update = utils.check_update_conditions(t, NUM_STEPS_FOR_UPDATE, memory_buffer)\n",
    "        \n",
    "        if update:\n",
    "            # Sample random mini-batch of experience tuples (S,A,R,S') from D\n",
    "            experiences = utils.get_experiences(memory_buffer)\n",
    "            \n",
    "            # Set the y targets, perform a gradient descent step,\n",
    "            # and update the network weights.\n",
    "            agent_learn(experiences, GAMMA)\n",
    "        \n",
    "        state = next_state.copy()\n",
    "        total_points += reward\n",
    "        \n",
    "        if done:\n",
    "            break\n",
    "            \n",
    "    total_point_history.append(total_points)\n",
    "    av_latest_points = np.mean(total_point_history[-num_p_av:])\n",
    "    \n",
    "    # Update the ε value\n",
    "    epsilon = utils.get_new_eps(epsilon)\n",
    "\n",
    "    print(f\"\\rEpisode {i+1} | Total point average of the last {num_p_av} episodes: {av_latest_points:.2f}\", end=\"\")\n",
    "\n",
    "    if (i+1) % num_p_av == 0:\n",
    "        print(f\"\\rEpisode {i+1} | Total point average of the last {num_p_av} episodes: {av_latest_points:.2f}\")\n",
    "\n",
    "    # We will consider that the environment is solved if we get an\n",
    "    # average of 200 points in the last 100 episodes.\n",
    "    if av_latest_points >= 200.0:\n",
    "        print(f\"\\n\\nEnvironment solved in {i+1} episodes!\")\n",
    "        q_network.save('lunar_lander_model.h5')\n",
    "        break\n",
    "        \n",
    "tot_time = time.time() - start\n",
    "\n",
    "print(f\"\\nTotal Runtime: {tot_time:.2f} s ({(tot_time/60):.2f} min)\")"
   ]
  },
  {
   "cell_type": "code",
   "execution_count": null,
   "metadata": {
    "deletable": false,
    "editable": false,
    "id": "E_EUXxurfe8m",
    "scrolled": false
   },
   "outputs": [],
   "source": [
    "# Plot the total point history along with the moving average\n",
    "utils.plot_history(total_point_history)"
   ]
  },
  {
   "cell_type": "code",
   "execution_count": null,
   "metadata": {
    "deletable": false,
    "editable": false
   },
   "outputs": [],
   "source": [
    "# Suppress warnings from imageio\n",
    "import logging\n",
    "logging.getLogger().setLevel(logging.ERROR)"
   ]
  },
  {
   "cell_type": "code",
   "execution_count": null,
   "metadata": {
    "deletable": false,
    "editable": false,
    "id": "3Ttb_zLeJKiG"
   },
   "outputs": [],
   "source": [
    "filename = \"./videos/lunar_lander.mp4\"\n",
    "\n",
    "utils.create_video(filename, env, q_network)\n",
    "utils.embed_mp4(filename)"
   ]
  }
 ],
 "metadata": {
  "accelerator": "GPU",
  "colab": {
   "collapsed_sections": [],
   "name": "TensorFlow - Lunar Lander.ipynb",
   "provenance": []
  },
  "kernelspec": {
   "display_name": "venv",
   "language": "python",
   "name": "python3"
  },
  "language_info": {
   "codemirror_mode": {
    "name": "ipython",
    "version": 3
   },
   "file_extension": ".py",
   "mimetype": "text/x-python",
   "name": "python",
   "nbconvert_exporter": "python",
   "pygments_lexer": "ipython3",
   "version": "3.10.11"
  }
 },
 "nbformat": 4,
 "nbformat_minor": 1
}
